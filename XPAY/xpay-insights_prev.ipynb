{
 "cells": [
  {
   "cell_type": "code",
   "execution_count": 1,
   "metadata": {
    "_cell_guid": "b1076dfc-b9ad-4769-8c92-a6c4dae69d19",
    "_uuid": "8f2839f25d086af736a60e9eeb907d3b93b6e0e5"
   },
   "outputs": [
    {
     "name": "stdout",
     "output_type": "stream",
     "text": [
      "/kaggle/input/final_export.csv\n"
     ]
    }
   ],
   "source": [
    "import numpy as np # linear algebra\n",
    "import pandas as pd # data processing, CSV file I/O (e.g. pd.read_csv)\n",
    "import os\n",
    "for dirname, _, filenames in os.walk('/kaggle/input'):\n",
    "    for filename in filenames:\n",
    "        print(os.path.join(dirname, filename))"
   ]
  },
  {
   "cell_type": "code",
   "execution_count": 2,
   "metadata": {
    "_cell_guid": "79c7e3d0-c299-4dcb-8224-4455121ee9b0",
    "_uuid": "d629ff2d2480ee46fbb7e2d37f6b5fab8052498a"
   },
   "outputs": [
    {
     "name": "stderr",
     "output_type": "stream",
     "text": [
      "/opt/conda/lib/python3.6/site-packages/IPython/core/interactiveshell.py:3051: DtypeWarning: Columns (7,10,11,15,21,25) have mixed types. Specify dtype option on import or set low_memory=False.\n",
      "  interactivity=interactivity, compiler=compiler, result=result)\n"
     ]
    }
   ],
   "source": [
    "df = pd.read_csv(\"/kaggle/input/final_export.csv\")"
   ]
  },
  {
   "cell_type": "code",
   "execution_count": 3,
   "metadata": {
    "_cell_guid": "",
    "_uuid": ""
   },
   "outputs": [
    {
     "data": {
      "text/html": [
       "<div>\n",
       "<style scoped>\n",
       "    .dataframe tbody tr th:only-of-type {\n",
       "        vertical-align: middle;\n",
       "    }\n",
       "\n",
       "    .dataframe tbody tr th {\n",
       "        vertical-align: top;\n",
       "    }\n",
       "\n",
       "    .dataframe thead th {\n",
       "        text-align: right;\n",
       "    }\n",
       "</style>\n",
       "<table border=\"1\" class=\"dataframe\">\n",
       "  <thead>\n",
       "    <tr style=\"text-align: right;\">\n",
       "      <th></th>\n",
       "      <th>PAYMENTTOKENID</th>\n",
       "      <th>MERCHANTID</th>\n",
       "      <th>CURRENCYTYPE</th>\n",
       "      <th>AMOUNT</th>\n",
       "      <th>INVOICEID</th>\n",
       "      <th>TRANSACTIONID</th>\n",
       "      <th>DESCRIPTION</th>\n",
       "      <th>PAYMENTOPTION</th>\n",
       "      <th>PAYMENTOPTIONDESC</th>\n",
       "      <th>INITIALURL</th>\n",
       "      <th>...</th>\n",
       "      <th>COREREFNO</th>\n",
       "      <th>RESERVE1</th>\n",
       "      <th>RESERVE2</th>\n",
       "      <th>TXMERCHANTACCOUNT</th>\n",
       "      <th>TXDIRECTION</th>\n",
       "      <th>IBUSERID</th>\n",
       "      <th>FAILEDREASON</th>\n",
       "      <th>MINISTERY_TYPE</th>\n",
       "      <th>MINISTERY_STATUS</th>\n",
       "      <th>MINISTERY_RESPONSE</th>\n",
       "    </tr>\n",
       "  </thead>\n",
       "  <tbody>\n",
       "    <tr>\n",
       "      <th>0</th>\n",
       "      <td>pTY12P19/J74VJ+B81qrW9S0POA=</td>\n",
       "      <td>3zj8pEw96jSgMxu7PqLioz9Q2jg=</td>\n",
       "      <td>USD</td>\n",
       "      <td>1.0</td>\n",
       "      <td>NaN</td>\n",
       "      <td>NaN</td>\n",
       "      <td>1@DEP/A/5611/LHPP</td>\n",
       "      <td>1</td>\n",
       "      <td>1@DEP/A/5611/LHPP</td>\n",
       "      <td>NaN</td>\n",
       "      <td>...</td>\n",
       "      <td>NaN</td>\n",
       "      <td>NaN</td>\n",
       "      <td>0.0</td>\n",
       "      <td>1.086982e+10</td>\n",
       "      <td>2.0</td>\n",
       "      <td>NaN</td>\n",
       "      <td>NaN</td>\n",
       "      <td>NaN</td>\n",
       "      <td>NaN</td>\n",
       "      <td>NaN</td>\n",
       "    </tr>\n",
       "    <tr>\n",
       "      <th>1</th>\n",
       "      <td>q+VwbNG3zyzuQRGAbd9N8lQItgg=</td>\n",
       "      <td>qIcBVYncKJs5CTsWkRPPzoGjN9U=</td>\n",
       "      <td>KHR</td>\n",
       "      <td>100000.0</td>\n",
       "      <td>20170220</td>\n",
       "      <td>561</td>\n",
       "      <td>10@mobile</td>\n",
       "      <td>2</td>\n",
       "      <td>10@mobile</td>\n",
       "      <td>https://www.registeredurl.com/</td>\n",
       "      <td>...</td>\n",
       "      <td>NaN</td>\n",
       "      <td>NaN</td>\n",
       "      <td>0.0</td>\n",
       "      <td>NaN</td>\n",
       "      <td>0.0</td>\n",
       "      <td>XPAYqlcvrEwOh7eO5BKjnD86tQeDVT4=</td>\n",
       "      <td>NaN</td>\n",
       "      <td>NaN</td>\n",
       "      <td>NaN</td>\n",
       "      <td>NaN</td>\n",
       "    </tr>\n",
       "    <tr>\n",
       "      <th>2</th>\n",
       "      <td>9MvBfWe+UDngG2njrFkWPBHjTrM=</td>\n",
       "      <td>qIcBVYncKJs5CTsWkRPPzoGjN9U=</td>\n",
       "      <td>KHR</td>\n",
       "      <td>100.0</td>\n",
       "      <td>20170220</td>\n",
       "      <td>561</td>\n",
       "      <td>10@mobile</td>\n",
       "      <td>1</td>\n",
       "      <td>mobile</td>\n",
       "      <td>https://www.registeredurl.com/</td>\n",
       "      <td>...</td>\n",
       "      <td>NaN</td>\n",
       "      <td>NaN</td>\n",
       "      <td>NaN</td>\n",
       "      <td>NaN</td>\n",
       "      <td>0.0</td>\n",
       "      <td>NaN</td>\n",
       "      <td>NaN</td>\n",
       "      <td>NaN</td>\n",
       "      <td>NaN</td>\n",
       "      <td>NaN</td>\n",
       "    </tr>\n",
       "    <tr>\n",
       "      <th>3</th>\n",
       "      <td>aKyH1DkBosaB3NhdmE3JL+PLhNA=</td>\n",
       "      <td>qIcBVYncKJs5CTsWkRPPzoGjN9U=</td>\n",
       "      <td>KHR</td>\n",
       "      <td>100000.0</td>\n",
       "      <td>20170220</td>\n",
       "      <td>10000</td>\n",
       "      <td>10@mobile</td>\n",
       "      <td>1</td>\n",
       "      <td>mobile</td>\n",
       "      <td>https://www.registeredurl.com/</td>\n",
       "      <td>...</td>\n",
       "      <td>NaN</td>\n",
       "      <td>NaN</td>\n",
       "      <td>NaN</td>\n",
       "      <td>NaN</td>\n",
       "      <td>0.0</td>\n",
       "      <td>NaN</td>\n",
       "      <td>NaN</td>\n",
       "      <td>NaN</td>\n",
       "      <td>NaN</td>\n",
       "      <td>NaN</td>\n",
       "    </tr>\n",
       "    <tr>\n",
       "      <th>4</th>\n",
       "      <td>uRD7TqhbxsiNGZ8h1lcSrdRqoRk=</td>\n",
       "      <td>qIcBVYncKJs5CTsWkRPPzoGjN9U=</td>\n",
       "      <td>USD</td>\n",
       "      <td>500.0</td>\n",
       "      <td>8721862</td>\n",
       "      <td>1552439236902</td>\n",
       "      <td>1@Motorola156</td>\n",
       "      <td>2</td>\n",
       "      <td>1@Motorola156</td>\n",
       "      <td>NaN</td>\n",
       "      <td>...</td>\n",
       "      <td>FT1907205YCYLDGR</td>\n",
       "      <td>USD</td>\n",
       "      <td>0.0</td>\n",
       "      <td>NaN</td>\n",
       "      <td>0.0</td>\n",
       "      <td>XPAY1NQucr7eO5609lDHhkKBa3yV8lk=</td>\n",
       "      <td>NaN</td>\n",
       "      <td>NaN</td>\n",
       "      <td>NaN</td>\n",
       "      <td>NaN</td>\n",
       "    </tr>\n",
       "  </tbody>\n",
       "</table>\n",
       "<p>5 rows × 39 columns</p>\n",
       "</div>"
      ],
      "text/plain": [
       "                 PAYMENTTOKENID                    MERCHANTID CURRENCYTYPE  \\\n",
       "0  pTY12P19/J74VJ+B81qrW9S0POA=  3zj8pEw96jSgMxu7PqLioz9Q2jg=          USD   \n",
       "1  q+VwbNG3zyzuQRGAbd9N8lQItgg=  qIcBVYncKJs5CTsWkRPPzoGjN9U=          KHR   \n",
       "2  9MvBfWe+UDngG2njrFkWPBHjTrM=  qIcBVYncKJs5CTsWkRPPzoGjN9U=          KHR   \n",
       "3  aKyH1DkBosaB3NhdmE3JL+PLhNA=  qIcBVYncKJs5CTsWkRPPzoGjN9U=          KHR   \n",
       "4  uRD7TqhbxsiNGZ8h1lcSrdRqoRk=  qIcBVYncKJs5CTsWkRPPzoGjN9U=          USD   \n",
       "\n",
       "     AMOUNT INVOICEID  TRANSACTIONID        DESCRIPTION PAYMENTOPTION  \\\n",
       "0       1.0       NaN            NaN  1@DEP/A/5611/LHPP             1   \n",
       "1  100000.0  20170220            561          10@mobile             2   \n",
       "2     100.0  20170220            561          10@mobile             1   \n",
       "3  100000.0  20170220          10000          10@mobile             1   \n",
       "4     500.0   8721862  1552439236902     1@Motorola156              2   \n",
       "\n",
       "   PAYMENTOPTIONDESC                      INITIALURL  ...         COREREFNO  \\\n",
       "0  1@DEP/A/5611/LHPP                             NaN  ...               NaN   \n",
       "1          10@mobile  https://www.registeredurl.com/  ...               NaN   \n",
       "2             mobile  https://www.registeredurl.com/  ...               NaN   \n",
       "3             mobile  https://www.registeredurl.com/  ...               NaN   \n",
       "4     1@Motorola156                              NaN  ...  FT1907205YCYLDGR   \n",
       "\n",
       "  RESERVE1  RESERVE2 TXMERCHANTACCOUNT TXDIRECTION  \\\n",
       "0      NaN       0.0      1.086982e+10         2.0   \n",
       "1      NaN       0.0               NaN         0.0   \n",
       "2      NaN       NaN               NaN         0.0   \n",
       "3      NaN       NaN               NaN         0.0   \n",
       "4      USD       0.0               NaN         0.0   \n",
       "\n",
       "                           IBUSERID  FAILEDREASON MINISTERY_TYPE  \\\n",
       "0                               NaN           NaN            NaN   \n",
       "1  XPAYqlcvrEwOh7eO5BKjnD86tQeDVT4=           NaN            NaN   \n",
       "2                               NaN           NaN            NaN   \n",
       "3                               NaN           NaN            NaN   \n",
       "4  XPAY1NQucr7eO5609lDHhkKBa3yV8lk=           NaN            NaN   \n",
       "\n",
       "  MINISTERY_STATUS MINISTERY_RESPONSE  \n",
       "0              NaN                NaN  \n",
       "1              NaN                NaN  \n",
       "2              NaN                NaN  \n",
       "3              NaN                NaN  \n",
       "4              NaN                NaN  \n",
       "\n",
       "[5 rows x 39 columns]"
      ]
     },
     "execution_count": 3,
     "metadata": {},
     "output_type": "execute_result"
    }
   ],
   "source": [
    "df.head()"
   ]
  },
  {
   "cell_type": "code",
   "execution_count": 4,
   "metadata": {},
   "outputs": [],
   "source": [
    "\"\"\"\n",
    "transform df for 1st quarter of 2019 ie 8JAN`19 to 28MAR`19\n",
    "\"\"\"\n",
    "df = df[:349]"
   ]
  },
  {
   "cell_type": "code",
   "execution_count": 5,
   "metadata": {},
   "outputs": [
    {
     "data": {
      "text/plain": [
       "Index(['PAYMENTTOKENID', 'MERCHANTID', 'CURRENCYTYPE', 'AMOUNT', 'INVOICEID',\n",
       "       'TRANSACTIONID', 'DESCRIPTION', 'PAYMENTOPTION', 'PAYMENTOPTIONDESC',\n",
       "       'INITIALURL', 'ACCTYPE', 'AUTHRESULT', 'EXPIRYTIME', 'IPADDRESS',\n",
       "       'USERID', 'TRANSACTIONRESULT', 'AMOUNTDEDUCTED', 'TRANSACTIONTIME',\n",
       "       'ERRORMESSAGE', 'CALLBACKRESULT', 'CLOSESTATUS', 'ACCOUNTNO',\n",
       "       'ACCOUNTNOOFMERCHANTORBANK', 'TRANSCREFNUM', 'FEECURRENCY', 'FEEAMOUNT',\n",
       "       'CREDITCURRENCYTYPE', 'FEETYPE', 'EXCHANGERATE', 'COREREFNO',\n",
       "       'RESERVE1', 'RESERVE2', 'TXMERCHANTACCOUNT', 'TXDIRECTION', 'IBUSERID',\n",
       "       'FAILEDREASON', 'MINISTERY_TYPE', 'MINISTERY_STATUS',\n",
       "       'MINISTERY_RESPONSE'],\n",
       "      dtype='object')"
      ]
     },
     "execution_count": 5,
     "metadata": {},
     "output_type": "execute_result"
    }
   ],
   "source": [
    "df.columns"
   ]
  },
  {
   "cell_type": "code",
   "execution_count": 6,
   "metadata": {},
   "outputs": [
    {
     "data": {
      "text/plain": [
       "array([   0.    , 4096.    , 4084.    ,   32.825 ,   32.5119,  124.6   ])"
      ]
     },
     "execution_count": 6,
     "metadata": {},
     "output_type": "execute_result"
    }
   ],
   "source": [
    "df[\"EXCHANGERATE\"].unique()"
   ]
  },
  {
   "cell_type": "code",
   "execution_count": 7,
   "metadata": {},
   "outputs": [],
   "source": [
    "cols = ['PAYMENTTOKENID', 'MERCHANTID', 'CURRENCYTYPE', 'AMOUNT','PAYMENTOPTION', 'ACCTYPE', 'AUTHRESULT',\n",
    "        'CLOSESTATUS', 'AMOUNTDEDUCTED','ERRORMESSAGE','FEEAMOUNT','FEETYPE','EXCHANGERATE']"
   ]
  },
  {
   "cell_type": "code",
   "execution_count": 8,
   "metadata": {},
   "outputs": [
    {
     "data": {
      "text/plain": [
       "(349, 13)"
      ]
     },
     "execution_count": 8,
     "metadata": {},
     "output_type": "execute_result"
    }
   ],
   "source": [
    "data = df[cols]\n",
    "data.shape"
   ]
  },
  {
   "cell_type": "code",
   "execution_count": 9,
   "metadata": {},
   "outputs": [
    {
     "data": {
      "text/plain": [
       "Index(['PAYMENTTOKENID', 'MERCHANTID', 'CURRENCYTYPE', 'AMOUNT',\n",
       "       'PAYMENTOPTION', 'ACCTYPE', 'AUTHRESULT', 'CLOSESTATUS',\n",
       "       'AMOUNTDEDUCTED', 'ERRORMESSAGE', 'FEEAMOUNT', 'FEETYPE',\n",
       "       'EXCHANGERATE'],\n",
       "      dtype='object')"
      ]
     },
     "execution_count": 9,
     "metadata": {},
     "output_type": "execute_result"
    }
   ],
   "source": [
    "data.columns"
   ]
  },
  {
   "cell_type": "code",
   "execution_count": 10,
   "metadata": {},
   "outputs": [],
   "source": [
    "cols_as_id = ['PAYMENTTOKENID', 'MERCHANTID']"
   ]
  },
  {
   "cell_type": "code",
   "execution_count": 11,
   "metadata": {},
   "outputs": [
    {
     "name": "stdout",
     "output_type": "stream",
     "text": [
      "349\n",
      "9\n"
     ]
    }
   ],
   "source": [
    "for i in cols_as_id:\n",
    "    print(data[i].nunique())"
   ]
  },
  {
   "cell_type": "code",
   "execution_count": 12,
   "metadata": {},
   "outputs": [
    {
     "name": "stdout",
     "output_type": "stream",
     "text": [
      "PAYMENTTOKENID 0\n",
      "MERCHANTID 0\n",
      "CURRENCYTYPE 0\n",
      "AMOUNT 0\n",
      "PAYMENTOPTION 0\n",
      "ACCTYPE 0\n",
      "AUTHRESULT 0\n",
      "CLOSESTATUS 0\n",
      "AMOUNTDEDUCTED 0\n",
      "ERRORMESSAGE 0\n",
      "FEEAMOUNT 0\n",
      "FEETYPE 0\n",
      "EXCHANGERATE 0\n"
     ]
    }
   ],
   "source": [
    "for i in data.columns:\n",
    "    print(i,data[i].isna().sum())"
   ]
  },
  {
   "cell_type": "code",
   "execution_count": 13,
   "metadata": {},
   "outputs": [
    {
     "data": {
      "text/plain": [
       "'\\nres = df.groupby([\"PAYMENTTOKENID\",\"MERCHANTID\"])[\"AMOUNT\"].mean()\\ndata = data.merge(res,on=[\"PAYMENTTOKENID\",\"MERCHANTID\"],how=\"left\",suffixes=[\\'\\',\\'_mean\\'])\\n'"
      ]
     },
     "execution_count": 13,
     "metadata": {},
     "output_type": "execute_result"
    }
   ],
   "source": [
    "\"\"\"\n",
    "res = df.groupby([\"PAYMENTTOKENID\",\"MERCHANTID\"])[\"AMOUNT\"].mean()\n",
    "data = data.merge(res,on=[\"PAYMENTTOKENID\",\"MERCHANTID\"],how=\"left\",suffixes=['','_mean'])\n",
    "\"\"\""
   ]
  },
  {
   "cell_type": "code",
   "execution_count": 14,
   "metadata": {},
   "outputs": [
    {
     "name": "stderr",
     "output_type": "stream",
     "text": [
      "/opt/conda/lib/python3.6/site-packages/ipykernel_launcher.py:1: SettingWithCopyWarning: \n",
      "A value is trying to be set on a copy of a slice from a DataFrame.\n",
      "Try using .loc[row_indexer,col_indexer] = value instead\n",
      "\n",
      "See the caveats in the documentation: http://pandas.pydata.org/pandas-docs/stable/user_guide/indexing.html#returning-a-view-versus-a-copy\n",
      "  \"\"\"Entry point for launching an IPython kernel.\n",
      "/opt/conda/lib/python3.6/site-packages/ipykernel_launcher.py:2: SettingWithCopyWarning: \n",
      "A value is trying to be set on a copy of a slice from a DataFrame.\n",
      "Try using .loc[row_indexer,col_indexer] = value instead\n",
      "\n",
      "See the caveats in the documentation: http://pandas.pydata.org/pandas-docs/stable/user_guide/indexing.html#returning-a-view-versus-a-copy\n",
      "  \n",
      "/opt/conda/lib/python3.6/site-packages/ipykernel_launcher.py:3: SettingWithCopyWarning: \n",
      "A value is trying to be set on a copy of a slice from a DataFrame.\n",
      "Try using .loc[row_indexer,col_indexer] = value instead\n",
      "\n",
      "See the caveats in the documentation: http://pandas.pydata.org/pandas-docs/stable/user_guide/indexing.html#returning-a-view-versus-a-copy\n",
      "  This is separate from the ipykernel package so we can avoid doing imports until\n",
      "/opt/conda/lib/python3.6/site-packages/ipykernel_launcher.py:4: SettingWithCopyWarning: \n",
      "A value is trying to be set on a copy of a slice from a DataFrame.\n",
      "Try using .loc[row_indexer,col_indexer] = value instead\n",
      "\n",
      "See the caveats in the documentation: http://pandas.pydata.org/pandas-docs/stable/user_guide/indexing.html#returning-a-view-versus-a-copy\n",
      "  after removing the cwd from sys.path.\n",
      "/opt/conda/lib/python3.6/site-packages/ipykernel_launcher.py:5: SettingWithCopyWarning: \n",
      "A value is trying to be set on a copy of a slice from a DataFrame.\n",
      "Try using .loc[row_indexer,col_indexer] = value instead\n",
      "\n",
      "See the caveats in the documentation: http://pandas.pydata.org/pandas-docs/stable/user_guide/indexing.html#returning-a-view-versus-a-copy\n",
      "  \"\"\"\n",
      "/opt/conda/lib/python3.6/site-packages/ipykernel_launcher.py:7: SettingWithCopyWarning: \n",
      "A value is trying to be set on a copy of a slice from a DataFrame.\n",
      "Try using .loc[row_indexer,col_indexer] = value instead\n",
      "\n",
      "See the caveats in the documentation: http://pandas.pydata.org/pandas-docs/stable/user_guide/indexing.html#returning-a-view-versus-a-copy\n",
      "  import sys\n"
     ]
    }
   ],
   "source": [
    "data[\"CURRENCYTYPE\"] = data[\"CURRENCYTYPE\"].replace(['USD', 'KHR'],[1,2])\n",
    "data[\"PAYMENTOPTION\"] = data[\"PAYMENTOPTION\"].replace(['1', '2'],[1,2])\n",
    "data[\"ACCTYPE\"] = data[\"ACCTYPE\"].replace(['2', '1'],[2,1])\n",
    "data[\"AUTHRESULT\"] = data[\"AUTHRESULT\"].replace(['66', '99', '0'],[1,1,2])\n",
    "data[\"CLOSESTATUS\"] = data[\"CLOSESTATUS\"].replace(['1', '2', '-1'],[0,1,0])\n",
    "data[\"ERRORMESSAGE\"] = data[\"ERRORMESSAGE\"].replace(['PENDING', 'SUCCESS', 'CANCEL', 'EXPIRED', 'FAILED'],\n",
    "                                                    [1,2,-1,-1,-1])"
   ]
  },
  {
   "cell_type": "code",
   "execution_count": 15,
   "metadata": {},
   "outputs": [
    {
     "name": "stderr",
     "output_type": "stream",
     "text": [
      "/opt/conda/lib/python3.6/site-packages/ipykernel_launcher.py:3: SettingWithCopyWarning: \n",
      "A value is trying to be set on a copy of a slice from a DataFrame.\n",
      "Try using .loc[row_indexer,col_indexer] = value instead\n",
      "\n",
      "See the caveats in the documentation: http://pandas.pydata.org/pandas-docs/stable/user_guide/indexing.html#returning-a-view-versus-a-copy\n",
      "  This is separate from the ipykernel package so we can avoid doing imports until\n"
     ]
    }
   ],
   "source": [
    "from sklearn.preprocessing import LabelEncoder\n",
    "le = LabelEncoder()\n",
    "data[\"MERCHANTID\"] = le.fit_transform(data[\"MERCHANTID\"])"
   ]
  },
  {
   "cell_type": "code",
   "execution_count": 16,
   "metadata": {},
   "outputs": [
    {
     "data": {
      "text/plain": [
       "PAYMENTTOKENID     object\n",
       "MERCHANTID          int64\n",
       "CURRENCYTYPE        int64\n",
       "AMOUNT            float64\n",
       "PAYMENTOPTION       int64\n",
       "ACCTYPE             int64\n",
       "AUTHRESULT          int64\n",
       "CLOSESTATUS         int64\n",
       "AMOUNTDEDUCTED    float64\n",
       "ERRORMESSAGE        int64\n",
       "FEEAMOUNT          object\n",
       "FEETYPE           float64\n",
       "EXCHANGERATE      float64\n",
       "dtype: object"
      ]
     },
     "execution_count": 16,
     "metadata": {},
     "output_type": "execute_result"
    }
   ],
   "source": [
    "data.dtypes"
   ]
  },
  {
   "cell_type": "code",
   "execution_count": 17,
   "metadata": {},
   "outputs": [],
   "source": [
    "del data[\"PAYMENTTOKENID\"]"
   ]
  },
  {
   "cell_type": "code",
   "execution_count": 18,
   "metadata": {},
   "outputs": [],
   "source": [
    "Y = data[\"AMOUNT\"]\n",
    "del data[\"AMOUNT\"]\n",
    "X = data"
   ]
  },
  {
   "cell_type": "code",
   "execution_count": 19,
   "metadata": {},
   "outputs": [],
   "source": [
    "from sklearn.model_selection import train_test_split\n",
    "Xtrain,Xtest,ytrain,ytest = train_test_split(X,Y,test_size=0.3,random_state=33)"
   ]
  },
  {
   "cell_type": "code",
   "execution_count": 20,
   "metadata": {},
   "outputs": [
    {
     "name": "stdout",
     "output_type": "stream",
     "text": [
      "9850618.254312366\n"
     ]
    }
   ],
   "source": [
    "from sklearn.linear_model import LinearRegression\n",
    "from sklearn.metrics import mean_squared_error as mse\n",
    "m1 = LinearRegression()\n",
    "ypred = m1.fit(Xtrain,ytrain).predict(Xtest)\n",
    "print(np.sqrt(mse(ypred,ytest)))"
   ]
  },
  {
   "cell_type": "code",
   "execution_count": 21,
   "metadata": {},
   "outputs": [],
   "source": [
    "sub = pd.DataFrame()\n",
    "sub[\"ytest\"] = ytest\n",
    "sub[\"ypred\"] = ypred"
   ]
  },
  {
   "cell_type": "code",
   "execution_count": 22,
   "metadata": {},
   "outputs": [
    {
     "data": {
      "text/html": [
       "<div>\n",
       "<style scoped>\n",
       "    .dataframe tbody tr th:only-of-type {\n",
       "        vertical-align: middle;\n",
       "    }\n",
       "\n",
       "    .dataframe tbody tr th {\n",
       "        vertical-align: top;\n",
       "    }\n",
       "\n",
       "    .dataframe thead th {\n",
       "        text-align: right;\n",
       "    }\n",
       "</style>\n",
       "<table border=\"1\" class=\"dataframe\">\n",
       "  <thead>\n",
       "    <tr style=\"text-align: right;\">\n",
       "      <th></th>\n",
       "      <th>ytest</th>\n",
       "      <th>ypred</th>\n",
       "    </tr>\n",
       "  </thead>\n",
       "  <tbody>\n",
       "    <tr>\n",
       "      <th>101</th>\n",
       "      <td>1.257500e+02</td>\n",
       "      <td>11568.252479</td>\n",
       "    </tr>\n",
       "    <tr>\n",
       "      <th>220</th>\n",
       "      <td>1.300000e+05</td>\n",
       "      <td>333375.672820</td>\n",
       "    </tr>\n",
       "    <tr>\n",
       "      <th>300</th>\n",
       "      <td>2.000000e+03</td>\n",
       "      <td>-40537.021652</td>\n",
       "    </tr>\n",
       "    <tr>\n",
       "      <th>342</th>\n",
       "      <td>2.000000e+03</td>\n",
       "      <td>33580.098301</td>\n",
       "    </tr>\n",
       "    <tr>\n",
       "      <th>4</th>\n",
       "      <td>5.000000e+02</td>\n",
       "      <td>-32072.762370</td>\n",
       "    </tr>\n",
       "    <tr>\n",
       "      <th>...</th>\n",
       "      <td>...</td>\n",
       "      <td>...</td>\n",
       "    </tr>\n",
       "    <tr>\n",
       "      <th>169</th>\n",
       "      <td>5.007500e+02</td>\n",
       "      <td>-10865.941121</td>\n",
       "    </tr>\n",
       "    <tr>\n",
       "      <th>277</th>\n",
       "      <td>9.000000e+00</td>\n",
       "      <td>67082.615316</td>\n",
       "    </tr>\n",
       "    <tr>\n",
       "      <th>215</th>\n",
       "      <td>1.000000e+08</td>\n",
       "      <td>633973.706816</td>\n",
       "    </tr>\n",
       "    <tr>\n",
       "      <th>270</th>\n",
       "      <td>1.000000e+01</td>\n",
       "      <td>44356.811529</td>\n",
       "    </tr>\n",
       "    <tr>\n",
       "      <th>17</th>\n",
       "      <td>1.750000e+00</td>\n",
       "      <td>52896.813382</td>\n",
       "    </tr>\n",
       "  </tbody>\n",
       "</table>\n",
       "<p>105 rows × 2 columns</p>\n",
       "</div>"
      ],
      "text/plain": [
       "            ytest          ypred\n",
       "101  1.257500e+02   11568.252479\n",
       "220  1.300000e+05  333375.672820\n",
       "300  2.000000e+03  -40537.021652\n",
       "342  2.000000e+03   33580.098301\n",
       "4    5.000000e+02  -32072.762370\n",
       "..            ...            ...\n",
       "169  5.007500e+02  -10865.941121\n",
       "277  9.000000e+00   67082.615316\n",
       "215  1.000000e+08  633973.706816\n",
       "270  1.000000e+01   44356.811529\n",
       "17   1.750000e+00   52896.813382\n",
       "\n",
       "[105 rows x 2 columns]"
      ]
     },
     "execution_count": 22,
     "metadata": {},
     "output_type": "execute_result"
    }
   ],
   "source": [
    "sub"
   ]
  },
  {
   "cell_type": "code",
   "execution_count": 23,
   "metadata": {},
   "outputs": [
    {
     "name": "stdout",
     "output_type": "stream",
     "text": [
      "Parameters currently in use:\n",
      "\n",
      "{'bootstrap': True,\n",
      " 'criterion': 'mse',\n",
      " 'max_depth': None,\n",
      " 'max_features': 'auto',\n",
      " 'max_leaf_nodes': None,\n",
      " 'min_impurity_decrease': 0.0,\n",
      " 'min_impurity_split': None,\n",
      " 'min_samples_leaf': 1,\n",
      " 'min_samples_split': 2,\n",
      " 'min_weight_fraction_leaf': 0.0,\n",
      " 'n_estimators': 'warn',\n",
      " 'n_jobs': None,\n",
      " 'oob_score': False,\n",
      " 'random_state': 42,\n",
      " 'verbose': 0,\n",
      " 'warm_start': False}\n"
     ]
    }
   ],
   "source": [
    "from sklearn.ensemble import RandomForestRegressor\n",
    "rf = RandomForestRegressor(random_state = 42)\n",
    "from pprint import pprint\n",
    "# Look at parameters used by our current forest\n",
    "print('Parameters currently in use:\\n')\n",
    "pprint(rf.get_params())"
   ]
  },
  {
   "cell_type": "code",
   "execution_count": 24,
   "metadata": {},
   "outputs": [
    {
     "name": "stdout",
     "output_type": "stream",
     "text": [
      "{'bootstrap': [True, False],\n",
      " 'max_depth': [10, 20, 30, 40, 50, 60, 70, 80, 90, 100, 110, None],\n",
      " 'max_features': ['auto', 'sqrt'],\n",
      " 'min_samples_leaf': [1, 2, 4],\n",
      " 'min_samples_split': [2, 5, 10],\n",
      " 'n_estimators': [200, 400, 600, 800, 1000, 1200, 1400, 1600, 1800, 2000]}\n"
     ]
    }
   ],
   "source": [
    "from sklearn.model_selection import RandomizedSearchCV\n",
    "# Number of trees in random forest\n",
    "n_estimators = [int(x) for x in np.linspace(start = 200, stop = 2000, num = 10)]\n",
    "# Number of features to consider at every split\n",
    "max_features = ['auto', 'sqrt']\n",
    "# Maximum number of levels in tree\n",
    "max_depth = [int(x) for x in np.linspace(10, 110, num = 11)]\n",
    "max_depth.append(None)\n",
    "# Minimum number of samples required to split a node\n",
    "min_samples_split = [2, 5, 10]\n",
    "# Minimum number of samples required at each leaf node\n",
    "min_samples_leaf = [1, 2, 4]\n",
    "# Method of selecting samples for training each tree\n",
    "bootstrap = [True, False]\n",
    "# Create the random grid\n",
    "random_grid = {'n_estimators': n_estimators,\n",
    "               'max_features': max_features,\n",
    "               'max_depth': max_depth,\n",
    "               'min_samples_split': min_samples_split,\n",
    "               'min_samples_leaf': min_samples_leaf,\n",
    "               'bootstrap': bootstrap}\n",
    "pprint(random_grid)"
   ]
  },
  {
   "cell_type": "code",
   "execution_count": 25,
   "metadata": {},
   "outputs": [
    {
     "name": "stdout",
     "output_type": "stream",
     "text": [
      "Fitting 3 folds for each of 100 candidates, totalling 300 fits\n"
     ]
    },
    {
     "name": "stderr",
     "output_type": "stream",
     "text": [
      "[Parallel(n_jobs=-1)]: Using backend LokyBackend with 4 concurrent workers.\n",
      "[Parallel(n_jobs=-1)]: Done  33 tasks      | elapsed:   29.7s\n",
      "[Parallel(n_jobs=-1)]: Done 154 tasks      | elapsed:  2.0min\n",
      "[Parallel(n_jobs=-1)]: Done 300 out of 300 | elapsed:  4.0min finished\n",
      "/opt/conda/lib/python3.6/site-packages/sklearn/model_selection/_search.py:814: DeprecationWarning: The default of the `iid` parameter will change from True to False in version 0.22 and will be removed in 0.24. This will change numeric results when test-set sizes are unequal.\n",
      "  DeprecationWarning)\n"
     ]
    },
    {
     "data": {
      "text/plain": [
       "RandomizedSearchCV(cv=3, error_score='raise-deprecating',\n",
       "                   estimator=RandomForestRegressor(bootstrap=True,\n",
       "                                                   criterion='mse',\n",
       "                                                   max_depth=None,\n",
       "                                                   max_features='auto',\n",
       "                                                   max_leaf_nodes=None,\n",
       "                                                   min_impurity_decrease=0.0,\n",
       "                                                   min_impurity_split=None,\n",
       "                                                   min_samples_leaf=1,\n",
       "                                                   min_samples_split=2,\n",
       "                                                   min_weight_fraction_leaf=0.0,\n",
       "                                                   n_estimators='warn',\n",
       "                                                   n_jobs=None, oob_score=False,\n",
       "                                                   random_sta...\n",
       "                   param_distributions={'bootstrap': [True, False],\n",
       "                                        'max_depth': [10, 20, 30, 40, 50, 60,\n",
       "                                                      70, 80, 90, 100, 110,\n",
       "                                                      None],\n",
       "                                        'max_features': ['auto', 'sqrt'],\n",
       "                                        'min_samples_leaf': [1, 2, 4],\n",
       "                                        'min_samples_split': [2, 5, 10],\n",
       "                                        'n_estimators': [200, 400, 600, 800,\n",
       "                                                         1000, 1200, 1400, 1600,\n",
       "                                                         1800, 2000]},\n",
       "                   pre_dispatch='2*n_jobs', random_state=42, refit=True,\n",
       "                   return_train_score=False, scoring=None, verbose=2)"
      ]
     },
     "execution_count": 25,
     "metadata": {},
     "output_type": "execute_result"
    }
   ],
   "source": [
    "rf = RandomForestRegressor()\n",
    "rf_random = RandomizedSearchCV(estimator = rf, param_distributions = random_grid, n_iter = 100, cv = 3, \\\n",
    "                               verbose=2, random_state=42, n_jobs = -1)\n",
    "rf_random.fit(Xtrain, ytrain)"
   ]
  },
  {
   "cell_type": "code",
   "execution_count": 26,
   "metadata": {},
   "outputs": [],
   "source": [
    "opt_params = rf_random.best_params_"
   ]
  },
  {
   "cell_type": "code",
   "execution_count": 27,
   "metadata": {},
   "outputs": [
    {
     "name": "stdout",
     "output_type": "stream",
     "text": [
      "9605109.228237838\n"
     ]
    }
   ],
   "source": [
    "final_rf = RandomForestRegressor(**opt_params)\n",
    "ypred = final_rf.fit(Xtrain,ytrain).predict(Xtest)\n",
    "print(np.sqrt(mse(ypred,ytest)))"
   ]
  },
  {
   "cell_type": "markdown",
   "metadata": {},
   "source": [
    "KMeans Clustering for merchants."
   ]
  },
  {
   "cell_type": "code",
   "execution_count": 28,
   "metadata": {},
   "outputs": [
    {
     "data": {
      "image/png": "[encoded data removed]",
      "text/plain": [
       "<Figure size 432x288 with 1 Axes>"
      ]
     },
     "metadata": {
      "needs_background": "light"
     },
     "output_type": "display_data"
    }
   ],
   "source": [
    "import pylab as pl\n",
    "from sklearn.preprocessing import MinMaxScaler\n",
    "from sklearn.cluster import KMeans\n",
    "minmax = MinMaxScaler()\n",
    "x = data.values\n",
    "z = minmax.fit_transform(x)\n",
    "Nc = range(1, 20)\n",
    "kmeans = [KMeans(n_clusters=i) for i in Nc]\n",
    "\n",
    "score = [kmeans[i].fit(z).score(z) for i in range(len(kmeans))]\n",
    "pl.plot(Nc,score)\n",
    "pl.xlabel('Number of Clusters')\n",
    "pl.ylabel('Score')\n",
    "pl.title('Elbow Curve')\n",
    "pl.show()"
   ]
  },
  {
   "cell_type": "code",
   "execution_count": 29,
   "metadata": {},
   "outputs": [],
   "source": [
    "# K means Clustering for Behaviour \n",
    "kmeans = KMeans(n_clusters = 3, init = 'k-means++', max_iter = 300, n_init = 10, random_state = 0)\n",
    "y_kmeans = kmeans.fit_predict(z)"
   ]
  },
  {
   "cell_type": "code",
   "execution_count": 30,
   "metadata": {},
   "outputs": [
    {
     "data": {
      "text/plain": [
       "(349,)"
      ]
     },
     "execution_count": 30,
     "metadata": {},
     "output_type": "execute_result"
    }
   ],
   "source": [
    "y_kmeans.shape"
   ]
  },
  {
   "cell_type": "code",
   "execution_count": 31,
   "metadata": {},
   "outputs": [
    {
     "name": "stderr",
     "output_type": "stream",
     "text": [
      "/opt/conda/lib/python3.6/site-packages/ipykernel_launcher.py:1: SettingWithCopyWarning: \n",
      "A value is trying to be set on a copy of a slice from a DataFrame.\n",
      "Try using .loc[row_indexer,col_indexer] = value instead\n",
      "\n",
      "See the caveats in the documentation: http://pandas.pydata.org/pandas-docs/stable/user_guide/indexing.html#returning-a-view-versus-a-copy\n",
      "  \"\"\"Entry point for launching an IPython kernel.\n"
     ]
    }
   ],
   "source": [
    "data[\"cluster\"] = y_kmeans"
   ]
  },
  {
   "cell_type": "code",
   "execution_count": 32,
   "metadata": {},
   "outputs": [
    {
     "data": {
      "text/plain": [
       "MERCHANTID\n",
       "0    0\n",
       "1    2\n",
       "2    0\n",
       "3    1\n",
       "4    0\n",
       "5    1\n",
       "6    2\n",
       "7    0\n",
       "8    0\n",
       "Name: cluster, dtype: int32"
      ]
     },
     "execution_count": 32,
     "metadata": {},
     "output_type": "execute_result"
    }
   ],
   "source": [
    "data.groupby([\"MERCHANTID\"])[\"cluster\"].agg(lambda x:x.value_counts().index[0])"
   ]
  },
  {
   "cell_type": "code",
   "execution_count": 33,
   "metadata": {},
   "outputs": [
    {
     "name": "stdout",
     "output_type": "stream",
     "text": [
      "Merchant -  0\n",
      "215    0\n",
      "234    0\n",
      "235    0\n",
      "267    2\n",
      "269    2\n",
      "271    0\n",
      "278    0\n",
      "Name: cluster, dtype: int32\n",
      "Merchant -  1\n",
      "346    2\n",
      "347    2\n",
      "348    2\n",
      "Name: cluster, dtype: int32\n",
      "Merchant -  2\n",
      "195    1\n",
      "196    2\n",
      "197    0\n",
      "198    0\n",
      "199    0\n",
      "211    0\n",
      "212    0\n",
      "213    0\n",
      "214    0\n",
      "261    1\n",
      "277    1\n",
      "Name: cluster, dtype: int32\n",
      "Merchant -  3\n",
      "0      0\n",
      "6      0\n",
      "7      0\n",
      "8      0\n",
      "9      0\n",
      "      ..\n",
      "272    2\n",
      "273    2\n",
      "274    2\n",
      "275    1\n",
      "276    0\n",
      "Name: cluster, Length: 241, dtype: int32\n",
      "Merchant -  4\n",
      "92     0\n",
      "93     0\n",
      "98     0\n",
      "99     0\n",
      "100    1\n",
      "308    0\n",
      "309    1\n",
      "310    1\n",
      "Name: cluster, dtype: int32\n",
      "Merchant -  5\n",
      "303    1\n",
      "304    0\n",
      "305    0\n",
      "306    1\n",
      "307    2\n",
      "Name: cluster, dtype: int32\n",
      "Merchant -  6\n",
      "1      2\n",
      "2      0\n",
      "3      0\n",
      "4      1\n",
      "5      2\n",
      "109    1\n",
      "157    0\n",
      "172    1\n",
      "173    0\n",
      "175    0\n",
      "282    0\n",
      "283    2\n",
      "284    1\n",
      "285    0\n",
      "286    2\n",
      "287    1\n",
      "288    0\n",
      "289    2\n",
      "290    2\n",
      "291    1\n",
      "292    1\n",
      "293    2\n",
      "294    2\n",
      "295    2\n",
      "296    2\n",
      "297    2\n",
      "298    2\n",
      "301    0\n",
      "302    2\n",
      "311    1\n",
      "312    1\n",
      "313    1\n",
      "Name: cluster, dtype: int32\n",
      "Merchant -  7\n",
      "279    0\n",
      "280    0\n",
      "281    0\n",
      "Name: cluster, dtype: int32\n",
      "Merchant -  8\n",
      "89     0\n",
      "90     0\n",
      "91     0\n",
      "94     0\n",
      "96     0\n",
      "299    2\n",
      "300    2\n",
      "314    0\n",
      "315    0\n",
      "316    1\n",
      "317    2\n",
      "318    0\n",
      "319    0\n",
      "320    0\n",
      "321    1\n",
      "322    0\n",
      "323    0\n",
      "324    1\n",
      "325    0\n",
      "326    0\n",
      "327    1\n",
      "328    1\n",
      "329    0\n",
      "330    0\n",
      "331    0\n",
      "332    0\n",
      "333    2\n",
      "334    1\n",
      "335    0\n",
      "336    0\n",
      "337    1\n",
      "338    0\n",
      "339    0\n",
      "340    1\n",
      "341    0\n",
      "342    0\n",
      "343    0\n",
      "344    1\n",
      "345    0\n",
      "Name: cluster, dtype: int32\n"
     ]
    }
   ],
   "source": [
    "for i in range(0,9):\n",
    "    print(\"Merchant - \",i)\n",
    "    print(data[data[\"MERCHANTID\"]==i][\"cluster\"])"
   ]
  },
  {
   "cell_type": "code",
   "execution_count": 34,
   "metadata": {},
   "outputs": [
    {
     "name": "stderr",
     "output_type": "stream",
     "text": [
      "/opt/conda/lib/python3.6/site-packages/ipykernel_launcher.py:1: SettingWithCopyWarning: \n",
      "A value is trying to be set on a copy of a slice from a DataFrame.\n",
      "Try using .loc[row_indexer,col_indexer] = value instead\n",
      "\n",
      "See the caveats in the documentation: http://pandas.pydata.org/pandas-docs/stable/user_guide/indexing.html#returning-a-view-versus-a-copy\n",
      "  \"\"\"Entry point for launching an IPython kernel.\n"
     ]
    },
    {
     "data": {
      "text/plain": [
       "MERCHANTID\n",
       "0    1.871729e+07\n",
       "1    1.000000e+00\n",
       "2    9.818182e+00\n",
       "3    1.267503e+04\n",
       "4    2.000000e+05\n",
       "5    2.000000e+03\n",
       "6    1.993969e+04\n",
       "7    1.000000e+01\n",
       "8    2.581538e+05\n",
       "Name: AMOUNT, dtype: float64"
      ]
     },
     "execution_count": 34,
     "metadata": {},
     "output_type": "execute_result"
    }
   ],
   "source": [
    "data[\"AMOUNT\"] = Y\n",
    "data.groupby([\"MERCHANTID\"])[\"AMOUNT\"].mean()"
   ]
  },
  {
   "cell_type": "code",
   "execution_count": null,
   "metadata": {},
   "outputs": [],
   "source": []
  },
  {
   "cell_type": "code",
   "execution_count": null,
   "metadata": {},
   "outputs": [],
   "source": []
  },
  {
   "cell_type": "code",
   "execution_count": null,
   "metadata": {},
   "outputs": [],
   "source": []
  },
  {
   "cell_type": "code",
   "execution_count": null,
   "metadata": {},
   "outputs": [],
   "source": []
  },
  {
   "cell_type": "code",
   "execution_count": null,
   "metadata": {},
   "outputs": [],
   "source": []
  }
 ],
 "metadata": {
  "kernelspec": {
   "display_name": "Python 3",
   "language": "python",
   "name": "python3"
  },
  "language_info": {
   "codemirror_mode": {
    "name": "ipython",
    "version": 3
   },
   "file_extension": ".py",
   "mimetype": "text/x-python",
   "name": "python",
   "nbconvert_exporter": "python",
   "pygments_lexer": "ipython3",
   "version": "3.6.6"
  }
 },
 "nbformat": 4,
 "nbformat_minor": 1
}
